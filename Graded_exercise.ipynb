{
 "cells": [
  {
   "cell_type": "markdown",
   "id": "c9dbf0cf-87cf-4d36-8827-ae5d6fc63a05",
   "metadata": {},
   "source": [
    "# Graded exercise notebook"
   ]
  },
  {
   "cell_type": "markdown",
   "id": "95f95a01-a587-468d-825c-5538668588c2",
   "metadata": {},
   "source": [
    "## Introduction  \n",
    "Lorem ipsum dolor sit amet, consectetur adipiscing elit. Nullam non ante et lorem molestie rutrum. Phasellus eu ipsum sit amet turpis placerat aliquam. Suspendisse a pulvinar sem. Aliquam nisl quam, porttitor eu ipsum ac, ornare aliquam magna. Mauris purus sem, porta in varius a, hendrerit a mi. Fusce at magna pulvinar, semper nisi in, viverra eros. In consequat bibendum felis in ultrices. Nulla vitae libero a mauris eleifend tincidunt vitae vel nisl. Morbi tincidunt augue tincidunt ullamcorper aliquet. Aliquam erat volutpat. Nunc nisi sem, eleifend non euismod eget, mollis eget velit. Nullam justo nulla, commodo eget hendrerit eget, pulvinar vitae nunc. Suspendisse potenti. Donec vestibulum hendrerit mauris, bibendum tristique mauris mattis at. Suspendisse potenti. Praesent quis tortor dui.\n"
   ]
  },
  {
   "cell_type": "markdown",
   "id": "fa8cad63-0c5c-4c20-8a66-5755af4f6a7e",
   "metadata": {},
   "source": [
    "1. Python\n",
    "2. Scala\n",
    "3. Julia\n",
    "4. Javascript\n",
    "5. R"
   ]
  },
  {
   "cell_type": "markdown",
   "id": "dffb3a18-9406-40cf-9d88-393246b7da59",
   "metadata": {},
   "source": [
    "- Scipy\n",
    "- GGplot2\n",
    "- Numpy\n",
    "- Matplotlib\n",
    "- Scikit-learn"
   ]
  },
  {
   "cell_type": "markdown",
   "id": "d8a987c4-4457-4b82-a614-bc85df8d9950",
   "metadata": {},
   "source": [
    "| Tool | Type |\n",
    "| ----------- | ----------- |\n",
    "| Rstudio | Open source |\n",
    "| IBM watson studio | Propietary |\n",
    "| Hadoop | Open source |"
   ]
  },
  {
   "cell_type": "markdown",
   "id": "deae554a-b408-483a-913a-5ec58b202fe5",
   "metadata": {},
   "source": [
    "### The following cells show arithmetic expression examples"
   ]
  },
  {
   "cell_type": "code",
   "execution_count": 3,
   "id": "e98675a9-cf73-487a-9250-5ed475654909",
   "metadata": {},
   "outputs": [
    {
     "data": {
      "text/plain": [
       "10"
      ]
     },
     "execution_count": 3,
     "metadata": {},
     "output_type": "execute_result"
    }
   ],
   "source": [
    "5*(1+1)"
   ]
  },
  {
   "cell_type": "code",
   "execution_count": 4,
   "id": "4c428efb-e6a7-46e4-9a5d-34a9d5a0e49c",
   "metadata": {},
   "outputs": [
    {
     "data": {
      "text/plain": [
       "3.0"
      ]
     },
     "execution_count": 4,
     "metadata": {},
     "output_type": "execute_result"
    }
   ],
   "source": [
    "time_min =180\n",
    "time_hours = 180/60\n",
    "time_hours"
   ]
  },
  {
   "cell_type": "markdown",
   "id": "2b2ec367-9a35-4ca9-b838-06bdf2b8d104",
   "metadata": {},
   "source": [
    "1. This is the first objective\n",
    "2. Then we do this\n",
    "3. And finish with this"
   ]
  },
  {
   "cell_type": "markdown",
   "id": "fec60ec5-ec6a-45fb-a250-33c15abc737a",
   "metadata": {},
   "source": [
    "**Asier Alvarez**"
   ]
  },
  {
   "cell_type": "code",
   "execution_count": null,
   "id": "57408b5f-ea05-46e4-9998-8fb71bce3387",
   "metadata": {},
   "outputs": [],
   "source": []
  }
 ],
 "metadata": {
  "kernelspec": {
   "display_name": "Python",
   "language": "python",
   "name": "conda-env-python-py"
  },
  "language_info": {
   "codemirror_mode": {
    "name": "ipython",
    "version": 3
   },
   "file_extension": ".py",
   "mimetype": "text/x-python",
   "name": "python",
   "nbconvert_exporter": "python",
   "pygments_lexer": "ipython3",
   "version": "3.7.12"
  }
 },
 "nbformat": 4,
 "nbformat_minor": 5
}
